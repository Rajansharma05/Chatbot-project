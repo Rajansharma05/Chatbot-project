{
  "nbformat": 4,
  "nbformat_minor": 0,
  "metadata": {
    "colab": {
      "name": "chatbot.ipynb",
      "provenance": []
    },
    "kernelspec": {
      "name": "python3",
      "display_name": "Python 3"
    }
  },
  "cells": [
    {
      "cell_type": "code",
      "metadata": {
        "colab": {
          "base_uri": "https://localhost:8080/"
        },
        "id": "NqlrBZ75-gmd",
        "outputId": "20336b57-e1b5-4231-aec2-0d54f9f2c9c9"
      },
      "source": [
        "pip install chatterbot\r\n"
      ],
      "execution_count": 5,
      "outputs": [
        {
          "output_type": "stream",
          "text": [
            "Requirement already satisfied: chatterbot in /usr/local/lib/python3.6/dist-packages (1.0.8)\n",
            "Requirement already satisfied: pytz in /usr/local/lib/python3.6/dist-packages (from chatterbot) (2018.9)\n",
            "Requirement already satisfied: mathparse<0.2,>=0.1 in /usr/local/lib/python3.6/dist-packages (from chatterbot) (0.1.2)\n",
            "Requirement already satisfied: sqlalchemy<1.4,>=1.3 in /usr/local/lib/python3.6/dist-packages (from chatterbot) (1.3.22)\n",
            "Requirement already satisfied: python-dateutil<2.9,>=2.8 in /usr/local/lib/python3.6/dist-packages (from chatterbot) (2.8.1)\n",
            "Requirement already satisfied: six>=1.5 in /usr/local/lib/python3.6/dist-packages (from python-dateutil<2.9,>=2.8->chatterbot) (1.15.0)\n"
          ],
          "name": "stdout"
        }
      ]
    },
    {
      "cell_type": "code",
      "metadata": {
        "colab": {
          "base_uri": "https://localhost:8080/"
        },
        "id": "HhXWVz0nBuY7",
        "outputId": "8e18c092-7c7e-4b13-b434-02d8ee18d78a"
      },
      "source": [
        "pip install chatterbot_corpus"
      ],
      "execution_count": 8,
      "outputs": [
        {
          "output_type": "stream",
          "text": [
            "Requirement already satisfied: chatterbot_corpus in /usr/local/lib/python3.6/dist-packages (1.2.0)\n",
            "Requirement already satisfied: PyYAML<4.0,>=3.12 in /usr/local/lib/python3.6/dist-packages (from chatterbot_corpus) (3.13)\n"
          ],
          "name": "stdout"
        }
      ]
    },
    {
      "cell_type": "code",
      "metadata": {
        "colab": {
          "base_uri": "https://localhost:8080/"
        },
        "id": "IxkLrbXKB7q8",
        "outputId": "fec456ef-0bcf-498f-b6f9-86fdbfaf5009"
      },
      "source": [
        "pip install --upgrade chatterbot_corpus"
      ],
      "execution_count": 11,
      "outputs": [
        {
          "output_type": "stream",
          "text": [
            "Requirement already up-to-date: chatterbot_corpus in /usr/local/lib/python3.6/dist-packages (1.2.0)\n",
            "Requirement already satisfied, skipping upgrade: PyYAML<4.0,>=3.12 in /usr/local/lib/python3.6/dist-packages (from chatterbot_corpus) (3.13)\n"
          ],
          "name": "stdout"
        }
      ]
    },
    {
      "cell_type": "code",
      "metadata": {
        "colab": {
          "base_uri": "https://localhost:8080/"
        },
        "id": "jMcrVUcKCPLr",
        "outputId": "90537602-113f-4da0-8c79-829f4ea08ae9"
      },
      "source": [
        "pip install --upgrade chatterbot"
      ],
      "execution_count": 12,
      "outputs": [
        {
          "output_type": "stream",
          "text": [
            "Requirement already up-to-date: chatterbot in /usr/local/lib/python3.6/dist-packages (1.0.8)\n",
            "Requirement already satisfied, skipping upgrade: python-dateutil<2.9,>=2.8 in /usr/local/lib/python3.6/dist-packages (from chatterbot) (2.8.1)\n",
            "Requirement already satisfied, skipping upgrade: pytz in /usr/local/lib/python3.6/dist-packages (from chatterbot) (2018.9)\n",
            "Requirement already satisfied, skipping upgrade: mathparse<0.2,>=0.1 in /usr/local/lib/python3.6/dist-packages (from chatterbot) (0.1.2)\n",
            "Requirement already satisfied, skipping upgrade: sqlalchemy<1.4,>=1.3 in /usr/local/lib/python3.6/dist-packages (from chatterbot) (1.3.22)\n",
            "Requirement already satisfied, skipping upgrade: six>=1.5 in /usr/local/lib/python3.6/dist-packages (from python-dateutil<2.9,>=2.8->chatterbot) (1.15.0)\n"
          ],
          "name": "stdout"
        }
      ]
    },
    {
      "cell_type": "code",
      "metadata": {
        "id": "zP9eYiv7CT-U"
      },
      "source": [
        "from chatterbot import ChatBot\r\n",
        "from chatterbot.trainers import ListTrainer\r\n"
      ],
      "execution_count": 14,
      "outputs": []
    },
    {
      "cell_type": "markdown",
      "metadata": {
        "id": "ssRccmBSC2nD"
      },
      "source": [
        "Creating and Training a **Bot** **bold text**"
      ]
    },
    {
      "cell_type": "code",
      "metadata": {
        "id": "0rp1lqYzCrhp"
      },
      "source": [
        "my_bot = ChatBot(name='PyBot', read_only=True,\r\n",
        "                 logic_adapters=['chatterbot.logic.MathematicalEvaluation',\r\n",
        "                                 'chatterbot.logic.BestMatch'])"
      ],
      "execution_count": 15,
      "outputs": []
    },
    {
      "cell_type": "code",
      "metadata": {
        "id": "b0kgOvtGDHCH"
      },
      "source": [
        "small_talk = ['hi there!',\r\n",
        "              'hi!',\r\n",
        "              'how do you do?',\r\n",
        "              'how are you?',\r\n",
        "              'i\\'m cool.',\r\n",
        "              'fine, you?',\r\n",
        "              'always cool.',\r\n",
        "              'i\\'m ok',\r\n",
        "              'glad to hear that.',\r\n",
        "              'i\\'m fine',\r\n",
        "              'glad to hear that.',\r\n",
        "              'i feel awesome',\r\n",
        "              'excellent, glad to hear that.',\r\n",
        "              'not so good',\r\n",
        "              'sorry to hear that.',\r\n",
        "              'what\\'s your name?',\r\n",
        "              'i\\'m pybot. ask me a math question, please.']\r\n",
        "math_talk_1 = ['pythagorean theorem',\r\n",
        "               'a squared plus b squared equals c squared.']\r\n",
        "math_talk_2 = ['law of cosines',\r\n",
        "               'c**2 = a**2 + b**2 - 2 * a * b * cos(gamma)']"
      ],
      "execution_count": 17,
      "outputs": []
    },
    {
      "cell_type": "code",
      "metadata": {
        "colab": {
          "base_uri": "https://localhost:8080/"
        },
        "id": "0-x-i6EcDhLZ",
        "outputId": "e60ba21f-64a5-422b-ff5c-22d30e3ef4b1"
      },
      "source": [
        "list_trainer = ListTrainer(my_bot)\r\n",
        "for item in (small_talk, math_talk_1, math_talk_2):\r\n",
        "    list_trainer.train(item)"
      ],
      "execution_count": 18,
      "outputs": [
        {
          "output_type": "stream",
          "text": [
            "List Trainer: [####################] 100%\n",
            "List Trainer: [####################] 100%\n",
            "List Trainer: [####################] 100%\n"
          ],
          "name": "stdout"
        }
      ]
    },
    {
      "cell_type": "code",
      "metadata": {
        "colab": {
          "base_uri": "https://localhost:8080/"
        },
        "id": "tvdCkiodDnAm",
        "outputId": "41d13576-4f74-43ac-dfe8-323bc71b976e"
      },
      "source": [
        "print(my_bot.get_response(\"hi\"))\r\n",
        "print(my_bot.get_response(\"i feel awesome today\"))\r\n",
        "print(my_bot.get_response(\"do you know the law of cosines?\"))\r\n"
      ],
      "execution_count": 22,
      "outputs": [
        {
          "output_type": "stream",
          "text": [
            "how do you do?\n",
            "excellent, glad to hear that.\n",
            "c**2 = a**2 + b**2 - 2 * a * b * cos(gamma)\n"
          ],
          "name": "stdout"
        }
      ]
    }
  ]
}